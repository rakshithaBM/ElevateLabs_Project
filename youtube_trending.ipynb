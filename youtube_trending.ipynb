{
 "cells": [
  {
   "cell_type": "code",
   "execution_count": 2,
   "id": "ff0380e6-318e-4e19-8dda-cc529636425a",
   "metadata": {},
   "outputs": [
    {
     "name": "stdout",
     "output_type": "stream",
     "text": [
      "Collecting vaderSentiment\n",
      "  Downloading vaderSentiment-3.3.2-py2.py3-none-any.whl.metadata (572 bytes)\n",
      "Collecting sqlite-utils\n",
      "  Downloading sqlite_utils-3.38-py3-none-any.whl.metadata (7.5 kB)\n",
      "Requirement already satisfied: requests in c:\\users\\dell\\anaconda3\\lib\\site-packages (from vaderSentiment) (2.32.3)\n",
      "Collecting sqlite-fts4 (from sqlite-utils)\n",
      "  Downloading sqlite_fts4-1.0.3-py3-none-any.whl.metadata (6.6 kB)\n",
      "Requirement already satisfied: click in c:\\users\\dell\\anaconda3\\lib\\site-packages (from sqlite-utils) (8.1.7)\n",
      "Collecting click-default-group>=1.2.3 (from sqlite-utils)\n",
      "  Downloading click_default_group-1.2.4-py2.py3-none-any.whl.metadata (2.8 kB)\n",
      "Requirement already satisfied: tabulate in c:\\users\\dell\\anaconda3\\lib\\site-packages (from sqlite-utils) (0.9.0)\n",
      "Requirement already satisfied: python-dateutil in c:\\users\\dell\\anaconda3\\lib\\site-packages (from sqlite-utils) (2.9.0.post0)\n",
      "Requirement already satisfied: pluggy in c:\\users\\dell\\anaconda3\\lib\\site-packages (from sqlite-utils) (1.0.0)\n",
      "Requirement already satisfied: colorama in c:\\users\\dell\\anaconda3\\lib\\site-packages (from click->sqlite-utils) (0.4.6)\n",
      "Requirement already satisfied: six>=1.5 in c:\\users\\dell\\anaconda3\\lib\\site-packages (from python-dateutil->sqlite-utils) (1.16.0)\n",
      "Requirement already satisfied: charset-normalizer<4,>=2 in c:\\users\\dell\\anaconda3\\lib\\site-packages (from requests->vaderSentiment) (3.3.2)\n",
      "Requirement already satisfied: idna<4,>=2.5 in c:\\users\\dell\\anaconda3\\lib\\site-packages (from requests->vaderSentiment) (3.7)\n",
      "Requirement already satisfied: urllib3<3,>=1.21.1 in c:\\users\\dell\\anaconda3\\lib\\site-packages (from requests->vaderSentiment) (2.2.3)\n",
      "Requirement already satisfied: certifi>=2017.4.17 in c:\\users\\dell\\anaconda3\\lib\\site-packages (from requests->vaderSentiment) (2024.8.30)\n",
      "Downloading vaderSentiment-3.3.2-py2.py3-none-any.whl (125 kB)\n",
      "Downloading sqlite_utils-3.38-py3-none-any.whl (68 kB)\n",
      "Downloading click_default_group-1.2.4-py2.py3-none-any.whl (4.1 kB)\n",
      "Downloading sqlite_fts4-1.0.3-py3-none-any.whl (10.0 kB)\n",
      "Installing collected packages: sqlite-fts4, vaderSentiment, click-default-group, sqlite-utils\n",
      "Successfully installed click-default-group-1.2.4 sqlite-fts4-1.0.3 sqlite-utils-3.38 vaderSentiment-3.3.2\n"
     ]
    }
   ],
   "source": [
    "!pip install vaderSentiment sqlite-utils\n"
   ]
  },
  {
   "cell_type": "code",
   "execution_count": 2,
   "id": "ac312bb3-b9b3-45d8-b019-4178884fbdb5",
   "metadata": {},
   "outputs": [],
   "source": [
    "import pandas as pd, numpy as np\n",
    "import matplotlib.pyplot as plt\n",
    "import seaborn as sns\n",
    "from pathlib import Path\n",
    "import json, sqlite3\n",
    "from vaderSentiment.vaderSentiment import SentimentIntensityAnalyzer\n",
    "\n",
    "DATA = Path(\"../data\")\n"
   ]
  },
  {
   "cell_type": "code",
   "execution_count": 3,
   "id": "2ac1509a-48f2-4801-9fac-a1bf1f91fe37",
   "metadata": {},
   "outputs": [
    {
     "data": {
      "text/plain": [
       "((79865, 17),\n",
       " ['video_id',\n",
       "  'trending_date',\n",
       "  'title',\n",
       "  'channel_title',\n",
       "  'category_id',\n",
       "  'publish_time',\n",
       "  'tags',\n",
       "  'views',\n",
       "  'likes',\n",
       "  'dislikes',\n",
       "  'comment_count',\n",
       "  'thumbnail_link'])"
      ]
     },
     "execution_count": 3,
     "metadata": {},
     "output_type": "execute_result"
    }
   ],
   "source": [
    "us = pd.read_csv(DATA/\"USvideos.csv\")\n",
    "us[\"region\"] = \"US\"\n",
    "\n",
    "# Optional:\n",
    "gb_path = DATA/\"GBvideos.csv\"\n",
    "if gb_path.exists():\n",
    "    gb = pd.read_csv(gb_path)\n",
    "    gb[\"region\"] = \"GB\"\n",
    "    df = pd.concat([us, gb], ignore_index=True)\n",
    "else:\n",
    "    df = us.copy()\n",
    "\n",
    "df.shape, df.columns.tolist()[:12]\n"
   ]
  },
  {
   "cell_type": "code",
   "execution_count": 5,
   "id": "71d0f400-7a42-4f4c-b17e-66b034b31880",
   "metadata": {},
   "outputs": [],
   "source": [
    "keep = [\"video_id\",\"title\",\"channel_title\",\"category_id\",\n",
    "        \"publish_time\",\"trending_date\",\"views\",\"likes\",\"dislikes\",\n",
    "        \"comment_count\",\"tags\",\"region\"]\n",
    "df = df[keep].copy()\n",
    "\n",
    "# trending_date in Kaggle is often 'yy.dd.mm' (e.g., 17.14.11)\n",
    "def parse_trending(d):\n",
    "    for fmt in (\"%y.%d.%m\", \"%y.%m.%d\", \"%Y-%m-%d\", \"%d.%m.%Y\"):\n",
    "        try:\n",
    "            return pd.to_datetime(d, format=fmt)\n",
    "        except:\n",
    "            pass\n",
    "    return pd.to_datetime(d, errors=\"coerce\")\n",
    "\n",
    "df[\"trending_date\"] = df[\"trending_date\"].apply(parse_trending)\n",
    "df[\"publish_time\"] = pd.to_datetime(df[\"publish_time\"], errors=\"coerce\")\n"
   ]
  },
  {
   "cell_type": "code",
   "execution_count": 6,
   "id": "625102e5-7056-4eb7-ae2e-92df87e5dd43",
   "metadata": {},
   "outputs": [
    {
     "data": {
      "text/html": [
       "<div>\n",
       "<style scoped>\n",
       "    .dataframe tbody tr th:only-of-type {\n",
       "        vertical-align: middle;\n",
       "    }\n",
       "\n",
       "    .dataframe tbody tr th {\n",
       "        vertical-align: top;\n",
       "    }\n",
       "\n",
       "    .dataframe thead th {\n",
       "        text-align: right;\n",
       "    }\n",
       "</style>\n",
       "<table border=\"1\" class=\"dataframe\">\n",
       "  <thead>\n",
       "    <tr style=\"text-align: right;\">\n",
       "      <th></th>\n",
       "      <th>video_id</th>\n",
       "      <th>title</th>\n",
       "      <th>channel_title</th>\n",
       "      <th>category_id</th>\n",
       "      <th>publish_time</th>\n",
       "      <th>trending_date</th>\n",
       "      <th>views</th>\n",
       "      <th>likes</th>\n",
       "      <th>dislikes</th>\n",
       "      <th>comment_count</th>\n",
       "      <th>tags</th>\n",
       "      <th>region</th>\n",
       "      <th>likes_to_views</th>\n",
       "      <th>engagement_rate</th>\n",
       "      <th>year_month</th>\n",
       "      <th>year</th>\n",
       "      <th>month</th>\n",
       "    </tr>\n",
       "  </thead>\n",
       "  <tbody>\n",
       "    <tr>\n",
       "      <th>0</th>\n",
       "      <td>2kyS6SvSYSE</td>\n",
       "      <td>WE WANT TO TALK ABOUT OUR MARRIAGE</td>\n",
       "      <td>CaseyNeistat</td>\n",
       "      <td>22</td>\n",
       "      <td>2017-11-13 17:13:01+00:00</td>\n",
       "      <td>2017-11-14</td>\n",
       "      <td>748374</td>\n",
       "      <td>57527</td>\n",
       "      <td>2966</td>\n",
       "      <td>15954</td>\n",
       "      <td>SHANtell martin</td>\n",
       "      <td>US</td>\n",
       "      <td>0.076869</td>\n",
       "      <td>0.098188</td>\n",
       "      <td>2017-11</td>\n",
       "      <td>2017</td>\n",
       "      <td>11</td>\n",
       "    </tr>\n",
       "    <tr>\n",
       "      <th>1</th>\n",
       "      <td>1ZAPwfrtAFY</td>\n",
       "      <td>The Trump Presidency: Last Week Tonight with J...</td>\n",
       "      <td>LastWeekTonight</td>\n",
       "      <td>24</td>\n",
       "      <td>2017-11-13 07:30:00+00:00</td>\n",
       "      <td>2017-11-14</td>\n",
       "      <td>2418783</td>\n",
       "      <td>97185</td>\n",
       "      <td>6146</td>\n",
       "      <td>12703</td>\n",
       "      <td>last week tonight trump presidency|\"last week ...</td>\n",
       "      <td>US</td>\n",
       "      <td>0.040179</td>\n",
       "      <td>0.045431</td>\n",
       "      <td>2017-11</td>\n",
       "      <td>2017</td>\n",
       "      <td>11</td>\n",
       "    </tr>\n",
       "    <tr>\n",
       "      <th>2</th>\n",
       "      <td>5qpjK5DgCt4</td>\n",
       "      <td>Racist Superman | Rudy Mancuso, King Bach &amp; Le...</td>\n",
       "      <td>Rudy Mancuso</td>\n",
       "      <td>23</td>\n",
       "      <td>2017-11-12 19:05:24+00:00</td>\n",
       "      <td>2017-11-14</td>\n",
       "      <td>3191434</td>\n",
       "      <td>146033</td>\n",
       "      <td>5339</td>\n",
       "      <td>8181</td>\n",
       "      <td>racist superman|\"rudy\"|\"mancuso\"|\"king\"|\"bach\"...</td>\n",
       "      <td>US</td>\n",
       "      <td>0.045758</td>\n",
       "      <td>0.048321</td>\n",
       "      <td>2017-11</td>\n",
       "      <td>2017</td>\n",
       "      <td>11</td>\n",
       "    </tr>\n",
       "  </tbody>\n",
       "</table>\n",
       "</div>"
      ],
      "text/plain": [
       "      video_id                                              title  \\\n",
       "0  2kyS6SvSYSE                 WE WANT TO TALK ABOUT OUR MARRIAGE   \n",
       "1  1ZAPwfrtAFY  The Trump Presidency: Last Week Tonight with J...   \n",
       "2  5qpjK5DgCt4  Racist Superman | Rudy Mancuso, King Bach & Le...   \n",
       "\n",
       "     channel_title  category_id              publish_time trending_date  \\\n",
       "0     CaseyNeistat           22 2017-11-13 17:13:01+00:00    2017-11-14   \n",
       "1  LastWeekTonight           24 2017-11-13 07:30:00+00:00    2017-11-14   \n",
       "2     Rudy Mancuso           23 2017-11-12 19:05:24+00:00    2017-11-14   \n",
       "\n",
       "     views   likes  dislikes  comment_count  \\\n",
       "0   748374   57527      2966          15954   \n",
       "1  2418783   97185      6146          12703   \n",
       "2  3191434  146033      5339           8181   \n",
       "\n",
       "                                                tags region  likes_to_views  \\\n",
       "0                                    SHANtell martin     US        0.076869   \n",
       "1  last week tonight trump presidency|\"last week ...     US        0.040179   \n",
       "2  racist superman|\"rudy\"|\"mancuso\"|\"king\"|\"bach\"...     US        0.045758   \n",
       "\n",
       "   engagement_rate year_month  year  month  \n",
       "0         0.098188    2017-11  2017     11  \n",
       "1         0.045431    2017-11  2017     11  \n",
       "2         0.048321    2017-11  2017     11  "
      ]
     },
     "execution_count": 6,
     "metadata": {},
     "output_type": "execute_result"
    }
   ],
   "source": [
    "df.drop_duplicates(subset=[\"video_id\",\"trending_date\",\"region\"], inplace=True)\n",
    "\n",
    "# Replace negatives (rare data glitches)\n",
    "for col in [\"views\",\"likes\",\"dislikes\",\"comment_count\"]:\n",
    "    df[col] = df[col].clip(lower=0)\n",
    "\n",
    "df[\"likes_to_views\"] = np.where(df[\"views\"]>0, df[\"likes\"]/df[\"views\"], 0.0)\n",
    "df[\"engagement_rate\"] = np.where(df[\"views\"]>0,\n",
    "                                 (df[\"likes\"]+df[\"comment_count\"])/df[\"views\"], 0.0)\n",
    "\n",
    "df[\"year_month\"] = df[\"trending_date\"].dt.to_period(\"M\").astype(str)\n",
    "df[\"year\"] = df[\"trending_date\"].dt.year\n",
    "df[\"month\"] = df[\"trending_date\"].dt.month\n",
    "df.head(3)\n"
   ]
  },
  {
   "cell_type": "code",
   "execution_count": 7,
   "id": "8f314469-10ef-4482-a4b1-163eafa7fba9",
   "metadata": {},
   "outputs": [],
   "source": [
    "analyzer = SentimentIntensityAnalyzer()\n",
    "\n",
    "def sent(x):\n",
    "    try: return analyzer.polarity_scores(str(x))[\"compound\"]\n",
    "    except: return 0.0\n",
    "\n",
    "df[\"title_sentiment\"] = df[\"title\"].apply(sent)\n",
    "df[\"tags_sentiment\"]  = df[\"tags\"].apply(sent)\n"
   ]
  },
  {
   "cell_type": "code",
   "execution_count": 8,
   "id": "6a1276ce-2dbc-4db6-983d-c749689a88d4",
   "metadata": {},
   "outputs": [],
   "source": [
    "trending_days = (df.groupby([\"video_id\",\"region\"])[\"trending_date\"]\n",
    "                   .nunique()\n",
    "                   .reset_index(name=\"trending_duration_days\"))\n",
    "\n",
    "# Join back if useful\n",
    "df = df.merge(trending_days, on=[\"video_id\",\"region\"], how=\"left\")\n"
   ]
  },
  {
   "cell_type": "code",
   "execution_count": 9,
   "id": "2458083a-ab9d-4ec3-b68d-3bdd73295dad",
   "metadata": {},
   "outputs": [
    {
     "data": {
      "text/plain": [
       "WindowsPath('../data/youtube_trending_clean.csv')"
      ]
     },
     "execution_count": 9,
     "metadata": {},
     "output_type": "execute_result"
    }
   ],
   "source": [
    "OUT = DATA/\"youtube_trending_clean.csv\"\n",
    "df.to_csv(OUT, index=False)\n",
    "OUT\n"
   ]
  },
  {
   "cell_type": "code",
   "execution_count": 10,
   "id": "ffef2bb8-f1a3-4cc5-a06c-711bd6894e41",
   "metadata": {},
   "outputs": [
    {
     "data": {
      "text/html": [
       "<div>\n",
       "<style scoped>\n",
       "    .dataframe tbody tr th:only-of-type {\n",
       "        vertical-align: middle;\n",
       "    }\n",
       "\n",
       "    .dataframe tbody tr th {\n",
       "        vertical-align: top;\n",
       "    }\n",
       "\n",
       "    .dataframe thead th {\n",
       "        text-align: right;\n",
       "    }\n",
       "</style>\n",
       "<table border=\"1\" class=\"dataframe\">\n",
       "  <thead>\n",
       "    <tr style=\"text-align: right;\">\n",
       "      <th></th>\n",
       "      <th>rows</th>\n",
       "    </tr>\n",
       "  </thead>\n",
       "  <tbody>\n",
       "    <tr>\n",
       "      <th>0</th>\n",
       "      <td>79641</td>\n",
       "    </tr>\n",
       "  </tbody>\n",
       "</table>\n",
       "</div>"
      ],
      "text/plain": [
       "    rows\n",
       "0  79641"
      ]
     },
     "execution_count": 10,
     "metadata": {},
     "output_type": "execute_result"
    }
   ],
   "source": [
    "conn = sqlite3.connect(\"../youtube_trending.db\")\n",
    "df.to_sql(\"youtube_trending\", conn, if_exists=\"replace\", index=False)\n",
    "\n",
    "# Quick sanity\n",
    "pd.read_sql(\"SELECT COUNT(*) AS rows FROM youtube_trending;\", conn)\n"
   ]
  },
  {
   "cell_type": "code",
   "execution_count": 11,
   "id": "0c227090-e4ef-43e8-8735-f5af4724d24d",
   "metadata": {},
   "outputs": [
    {
     "data": {
      "image/png": "[encoded data removed]",
      "text/plain": [
       "<Figure size 1000x600 with 1 Axes>"
      ]
     },
     "metadata": {},
     "output_type": "display_data"
    },
    {
     "data": {
      "image/png": "[encoded data removed]",
      "text/plain": [
       "<Figure size 1000x500 with 1 Axes>"
      ]
     },
     "metadata": {},
     "output_type": "display_data"
    },
    {
     "data": {
      "image/png": "[encoded data removed]",
      "text/plain": [
       "<Figure size 600x500 with 1 Axes>"
      ]
     },
     "metadata": {},
     "output_type": "display_data"
    }
   ],
   "source": [
    "# Top 10 channels by total views\n",
    "top_channels = (df.groupby(\"channel_title\")[\"views\"]\n",
    "                  .sum().sort_values(ascending=False).head(10))\n",
    "\n",
    "plt.figure(figsize=(10,6))\n",
    "sns.barplot(x=top_channels.values, y=top_channels.index, color=\"#5DADE2\")\n",
    "plt.title(\"Top 10 Channels by Total Views\")\n",
    "plt.xlabel(\"Total Views\"); plt.ylabel(\"Channel\")\n",
    "plt.tight_layout(); plt.show()\n",
    "\n",
    "# Monthly trend of unique trending videos (all regions combined)\n",
    "monthly = (df.groupby(\"year_month\")[\"video_id\"]\n",
    "             .nunique().rename(\"unique_trending_videos\").reset_index())\n",
    "\n",
    "plt.figure(figsize=(10,5))\n",
    "plt.plot(monthly[\"year_month\"], monthly[\"unique_trending_videos\"], marker=\"o\")\n",
    "plt.title(\"Monthly Unique Trending Videos\")\n",
    "plt.xticks(rotation=45, ha=\"right\")\n",
    "plt.xlabel(\"Month-Year\"); plt.ylabel(\"Unique Trending Videos\")\n",
    "plt.tight_layout(); plt.show()\n",
    "\n",
    "# Views vs Likes (sample 1000 for speed)\n",
    "sample = df.sample(min(1000, len(df)), random_state=42)\n",
    "plt.figure(figsize=(6,5))\n",
    "plt.scatter(sample[\"views\"], sample[\"likes\"], alpha=0.4)\n",
    "plt.title(\"Views vs Likes\")\n",
    "plt.xlabel(\"Views\"); plt.ylabel(\"Likes\")\n",
    "plt.tight_layout(); plt.show()\n"
   ]
  },
  {
   "cell_type": "code",
   "execution_count": 12,
   "id": "c2a56d49-5596-4be0-8b6e-7aa5ed01592e",
   "metadata": {},
   "outputs": [],
   "source": [
    "import sqlite3\n",
    "import pandas as pd\n",
    "\n",
    "# connect to DB\n",
    "conn = sqlite3.connect(\"../youtube_trending.db\")\n"
   ]
  },
  {
   "cell_type": "code",
   "execution_count": 14,
   "id": "79a9478b-dda6-4aab-a1d5-cc0b8b14d947",
   "metadata": {},
   "outputs": [],
   "source": [
    "# Read all SQL queries from file\n",
    "with open(\"../sql/youtube_trending.sql\", \"r\") as f:\n",
    "    sql_script = f.read()\n",
    "\n",
    "# Split into individual queries (they end with ;)\n",
    "queries = [q.strip() for q in sql_script.split(\";\") if q.strip()]\n"
   ]
  },
  {
   "cell_type": "code",
   "execution_count": 15,
   "id": "400529e6-768e-46e6-97ef-14b53c79567a",
   "metadata": {},
   "outputs": [
    {
     "name": "stdout",
     "output_type": "stream",
     "text": [
      "\n",
      "--- Query 1 ---\n"
     ]
    },
    {
     "data": {
      "text/html": [
       "<div>\n",
       "<style scoped>\n",
       "    .dataframe tbody tr th:only-of-type {\n",
       "        vertical-align: middle;\n",
       "    }\n",
       "\n",
       "    .dataframe tbody tr th {\n",
       "        vertical-align: top;\n",
       "    }\n",
       "\n",
       "    .dataframe thead th {\n",
       "        text-align: right;\n",
       "    }\n",
       "</style>\n",
       "<table border=\"1\" class=\"dataframe\">\n",
       "  <thead>\n",
       "    <tr style=\"text-align: right;\">\n",
       "      <th></th>\n",
       "      <th>category</th>\n",
       "      <th>total_views</th>\n",
       "    </tr>\n",
       "  </thead>\n",
       "  <tbody>\n",
       "    <tr>\n",
       "      <th>0</th>\n",
       "      <td>10</td>\n",
       "      <td>210540510080</td>\n",
       "    </tr>\n",
       "    <tr>\n",
       "      <th>1</th>\n",
       "      <td>24</td>\n",
       "      <td>50173412625</td>\n",
       "    </tr>\n",
       "    <tr>\n",
       "      <th>2</th>\n",
       "      <td>1</td>\n",
       "      <td>15581745480</td>\n",
       "    </tr>\n",
       "    <tr>\n",
       "      <th>3</th>\n",
       "      <td>22</td>\n",
       "      <td>10654820704</td>\n",
       "    </tr>\n",
       "    <tr>\n",
       "      <th>4</th>\n",
       "      <td>23</td>\n",
       "      <td>9048351270</td>\n",
       "    </tr>\n",
       "  </tbody>\n",
       "</table>\n",
       "</div>"
      ],
      "text/plain": [
       "   category   total_views\n",
       "0        10  210540510080\n",
       "1        24   50173412625\n",
       "2         1   15581745480\n",
       "3        22   10654820704\n",
       "4        23    9048351270"
      ]
     },
     "metadata": {},
     "output_type": "display_data"
    },
    {
     "name": "stdout",
     "output_type": "stream",
     "text": [
      "\n",
      "--- Query 2 ---\n"
     ]
    },
    {
     "data": {
      "text/html": [
       "<div>\n",
       "<style scoped>\n",
       "    .dataframe tbody tr th:only-of-type {\n",
       "        vertical-align: middle;\n",
       "    }\n",
       "\n",
       "    .dataframe tbody tr th {\n",
       "        vertical-align: top;\n",
       "    }\n",
       "\n",
       "    .dataframe thead th {\n",
       "        text-align: right;\n",
       "    }\n",
       "</style>\n",
       "<table border=\"1\" class=\"dataframe\">\n",
       "  <thead>\n",
       "    <tr style=\"text-align: right;\">\n",
       "      <th></th>\n",
       "      <th>category</th>\n",
       "      <th>avg_views</th>\n",
       "    </tr>\n",
       "  </thead>\n",
       "  <tbody>\n",
       "    <tr>\n",
       "      <th>0</th>\n",
       "      <td>10</td>\n",
       "      <td>1.044089e+07</td>\n",
       "    </tr>\n",
       "    <tr>\n",
       "      <th>1</th>\n",
       "      <td>29</td>\n",
       "      <td>3.549249e+06</td>\n",
       "    </tr>\n",
       "    <tr>\n",
       "      <th>2</th>\n",
       "      <td>1</td>\n",
       "      <td>3.175412e+06</td>\n",
       "    </tr>\n",
       "    <tr>\n",
       "      <th>3</th>\n",
       "      <td>24</td>\n",
       "      <td>2.640984e+06</td>\n",
       "    </tr>\n",
       "    <tr>\n",
       "      <th>4</th>\n",
       "      <td>17</td>\n",
       "      <td>1.899674e+06</td>\n",
       "    </tr>\n",
       "  </tbody>\n",
       "</table>\n",
       "</div>"
      ],
      "text/plain": [
       "   category     avg_views\n",
       "0        10  1.044089e+07\n",
       "1        29  3.549249e+06\n",
       "2         1  3.175412e+06\n",
       "3        24  2.640984e+06\n",
       "4        17  1.899674e+06"
      ]
     },
     "metadata": {},
     "output_type": "display_data"
    },
    {
     "name": "stdout",
     "output_type": "stream",
     "text": [
      "\n",
      "--- Query 3 ---\n"
     ]
    },
    {
     "data": {
      "text/html": [
       "<div>\n",
       "<style scoped>\n",
       "    .dataframe tbody tr th:only-of-type {\n",
       "        vertical-align: middle;\n",
       "    }\n",
       "\n",
       "    .dataframe tbody tr th {\n",
       "        vertical-align: top;\n",
       "    }\n",
       "\n",
       "    .dataframe thead th {\n",
       "        text-align: right;\n",
       "    }\n",
       "</style>\n",
       "<table border=\"1\" class=\"dataframe\">\n",
       "  <thead>\n",
       "    <tr style=\"text-align: right;\">\n",
       "      <th></th>\n",
       "      <th>region</th>\n",
       "      <th>avg_views</th>\n",
       "      <th>avg_engagement_rate</th>\n",
       "    </tr>\n",
       "  </thead>\n",
       "  <tbody>\n",
       "    <tr>\n",
       "      <th>0</th>\n",
       "      <td>GB</td>\n",
       "      <td>5.911516e+06</td>\n",
       "      <td>0.038039</td>\n",
       "    </tr>\n",
       "    <tr>\n",
       "      <th>1</th>\n",
       "      <td>US</td>\n",
       "      <td>2.360649e+06</td>\n",
       "      <td>0.038870</td>\n",
       "    </tr>\n",
       "  </tbody>\n",
       "</table>\n",
       "</div>"
      ],
      "text/plain": [
       "  region     avg_views  avg_engagement_rate\n",
       "0     GB  5.911516e+06             0.038039\n",
       "1     US  2.360649e+06             0.038870"
      ]
     },
     "metadata": {},
     "output_type": "display_data"
    },
    {
     "name": "stdout",
     "output_type": "stream",
     "text": [
      "\n",
      "--- Query 4 ---\n"
     ]
    },
    {
     "data": {
      "text/html": [
       "<div>\n",
       "<style scoped>\n",
       "    .dataframe tbody tr th:only-of-type {\n",
       "        vertical-align: middle;\n",
       "    }\n",
       "\n",
       "    .dataframe tbody tr th {\n",
       "        vertical-align: top;\n",
       "    }\n",
       "\n",
       "    .dataframe thead th {\n",
       "        text-align: right;\n",
       "    }\n",
       "</style>\n",
       "<table border=\"1\" class=\"dataframe\">\n",
       "  <thead>\n",
       "    <tr style=\"text-align: right;\">\n",
       "      <th></th>\n",
       "      <th>month_year</th>\n",
       "      <th>region</th>\n",
       "      <th>unique_trending_videos</th>\n",
       "    </tr>\n",
       "  </thead>\n",
       "  <tbody>\n",
       "    <tr>\n",
       "      <th>0</th>\n",
       "      <td>2006-07</td>\n",
       "      <td>US</td>\n",
       "      <td>1</td>\n",
       "    </tr>\n",
       "    <tr>\n",
       "      <th>1</th>\n",
       "      <td>2007-03</td>\n",
       "      <td>GB</td>\n",
       "      <td>1</td>\n",
       "    </tr>\n",
       "    <tr>\n",
       "      <th>2</th>\n",
       "      <td>2007-06</td>\n",
       "      <td>GB</td>\n",
       "      <td>1</td>\n",
       "    </tr>\n",
       "    <tr>\n",
       "      <th>3</th>\n",
       "      <td>2007-12</td>\n",
       "      <td>GB</td>\n",
       "      <td>1</td>\n",
       "    </tr>\n",
       "    <tr>\n",
       "      <th>4</th>\n",
       "      <td>2008-01</td>\n",
       "      <td>GB</td>\n",
       "      <td>1</td>\n",
       "    </tr>\n",
       "  </tbody>\n",
       "</table>\n",
       "</div>"
      ],
      "text/plain": [
       "  month_year region  unique_trending_videos\n",
       "0    2006-07     US                       1\n",
       "1    2007-03     GB                       1\n",
       "2    2007-06     GB                       1\n",
       "3    2007-12     GB                       1\n",
       "4    2008-01     GB                       1"
      ]
     },
     "metadata": {},
     "output_type": "display_data"
    },
    {
     "name": "stdout",
     "output_type": "stream",
     "text": [
      "\n",
      "--- Query 5 ---\n"
     ]
    },
    {
     "data": {
      "text/html": [
       "<div>\n",
       "<style scoped>\n",
       "    .dataframe tbody tr th:only-of-type {\n",
       "        vertical-align: middle;\n",
       "    }\n",
       "\n",
       "    .dataframe tbody tr th {\n",
       "        vertical-align: top;\n",
       "    }\n",
       "\n",
       "    .dataframe thead th {\n",
       "        text-align: right;\n",
       "    }\n",
       "</style>\n",
       "<table border=\"1\" class=\"dataframe\">\n",
       "  <thead>\n",
       "    <tr style=\"text-align: right;\">\n",
       "      <th></th>\n",
       "      <th>region</th>\n",
       "      <th>avg_trending_days</th>\n",
       "      <th>max_trending_days</th>\n",
       "    </tr>\n",
       "  </thead>\n",
       "  <tbody>\n",
       "    <tr>\n",
       "      <th>0</th>\n",
       "      <td>US</td>\n",
       "      <td>1.0</td>\n",
       "      <td>3</td>\n",
       "    </tr>\n",
       "    <tr>\n",
       "      <th>1</th>\n",
       "      <td>GB</td>\n",
       "      <td>1.0</td>\n",
       "      <td>1</td>\n",
       "    </tr>\n",
       "  </tbody>\n",
       "</table>\n",
       "</div>"
      ],
      "text/plain": [
       "  region  avg_trending_days  max_trending_days\n",
       "0     US                1.0                  3\n",
       "1     GB                1.0                  1"
      ]
     },
     "metadata": {},
     "output_type": "display_data"
    },
    {
     "name": "stdout",
     "output_type": "stream",
     "text": [
      "\n",
      "--- Query 6 ---\n"
     ]
    },
    {
     "data": {
      "text/html": [
       "<div>\n",
       "<style scoped>\n",
       "    .dataframe tbody tr th:only-of-type {\n",
       "        vertical-align: middle;\n",
       "    }\n",
       "\n",
       "    .dataframe tbody tr th {\n",
       "        vertical-align: top;\n",
       "    }\n",
       "\n",
       "    .dataframe thead th {\n",
       "        text-align: right;\n",
       "    }\n",
       "</style>\n",
       "<table border=\"1\" class=\"dataframe\">\n",
       "  <thead>\n",
       "    <tr style=\"text-align: right;\">\n",
       "      <th></th>\n",
       "      <th>category</th>\n",
       "      <th>avg_title_sentiment</th>\n",
       "      <th>avg_tags_sentiment</th>\n",
       "    </tr>\n",
       "  </thead>\n",
       "  <tbody>\n",
       "    <tr>\n",
       "      <th>0</th>\n",
       "      <td>19</td>\n",
       "      <td>0.156</td>\n",
       "      <td>0.034</td>\n",
       "    </tr>\n",
       "    <tr>\n",
       "      <th>1</th>\n",
       "      <td>2</td>\n",
       "      <td>0.118</td>\n",
       "      <td>0.123</td>\n",
       "    </tr>\n",
       "    <tr>\n",
       "      <th>2</th>\n",
       "      <td>26</td>\n",
       "      <td>0.105</td>\n",
       "      <td>0.073</td>\n",
       "    </tr>\n",
       "    <tr>\n",
       "      <th>3</th>\n",
       "      <td>17</td>\n",
       "      <td>0.078</td>\n",
       "      <td>0.063</td>\n",
       "    </tr>\n",
       "    <tr>\n",
       "      <th>4</th>\n",
       "      <td>15</td>\n",
       "      <td>0.067</td>\n",
       "      <td>0.066</td>\n",
       "    </tr>\n",
       "  </tbody>\n",
       "</table>\n",
       "</div>"
      ],
      "text/plain": [
       "   category  avg_title_sentiment  avg_tags_sentiment\n",
       "0        19                0.156               0.034\n",
       "1         2                0.118               0.123\n",
       "2        26                0.105               0.073\n",
       "3        17                0.078               0.063\n",
       "4        15                0.067               0.066"
      ]
     },
     "metadata": {},
     "output_type": "display_data"
    }
   ],
   "source": [
    "with open(\"../sql/youtube_trending.sql\", \"r\") as f:\n",
    "    sql_script = f.read()\n",
    "\n",
    "queries = [q.strip() for q in sql_script.split(\";\") if q.strip()]\n",
    "\n",
    "for i, query in enumerate(queries, 1):\n",
    "    try:\n",
    "        print(f\"\\n--- Query {i} ---\")\n",
    "        result = pd.read_sql(query, conn)\n",
    "        display(result.head())\n",
    "    except Exception as e:\n",
    "        print(f\"Error in Query {i}: {e}\")\n"
   ]
  },
  {
   "cell_type": "code",
   "execution_count": null,
   "id": "5c7d11fe-f3f1-4593-a4ec-5ad883a32fd7",
   "metadata": {},
   "outputs": [],
   "source": []
  }
 ],
 "metadata": {
  "kernelspec": {
   "display_name": "Python 3 (ipykernel)",
   "language": "python",
   "name": "python3"
  },
  "language_info": {
   "codemirror_mode": {
    "name": "ipython",
    "version": 3
   },
   "file_extension": ".py",
   "mimetype": "text/x-python",
   "name": "python",
   "nbconvert_exporter": "python",
   "pygments_lexer": "ipython3",
   "version": "3.12.7"
  }
 },
 "nbformat": 4,
 "nbformat_minor": 5
}
